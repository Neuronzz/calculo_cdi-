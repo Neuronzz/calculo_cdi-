{
 "cells": [
  {
   "cell_type": "code",
   "execution_count": 2,
   "metadata": {},
   "outputs": [
    {
     "name": "stdout",
     "output_type": "stream",
     "text": [
      "Rentabilidade diária: 0.05%\n"
     ]
    }
   ],
   "source": [
    "import pandas as pd\n",
    "import re\n",
    "\n",
    "#puxando dados do banco central\n",
    "def consulta_bc(codigo_bcb):\n",
    "  url3 = 'http://api.bcb.gov.br/dados/serie/bcdata.sgs.{}/dados?formato=json'.format(codigo_bcb)\n",
    "  df_consulta = pd.read_json(url3)\n",
    "  df_consulta.rename(columns={'data': 'Data'}, inplace=True)\n",
    "  df_consulta['Data'] = pd.to_datetime(df_consulta['Data'], dayfirst=True)\n",
    "  df_consulta.set_index('Data', inplace=True)\n",
    "  return df_consulta\n",
    "\n",
    "cdi = consulta_bc(12) #12 é o código para o CDI no site do BC\n",
    "cdi.reset_index(inplace=True)\n",
    "cdi['Data']= cdi['Data'].dt.strftime('%Y-%m-%d') #colocando data no padrao brasileiro\n",
    "\n",
    "# Definindo a taxa anual adicional\n",
    "taxa_anual_adicional = 0.03  # 3%\n",
    "\n",
    "# Exemplo de um fator diário do CDI\n",
    "fator_diario_cdi = cdi[cdi['Data'] == '2024-03-21']['valor'].iloc[0]\n",
    "#fator_diario_cdi = 0.0265  # Este valor seria obtido do DataFrame cdi_df\n",
    "\n",
    "\n",
    "# Convertendo a taxa do CDI para uma \"cota\"\n",
    "cota_cdi_atual = 1 * (1 + (fator_diario_cdi / 100))\n",
    "\n",
    "# A cota do dia anterior (considerada como 1.0 para simplificação)\n",
    "cota_cdi_anterior = 1.0\n",
    "\n",
    "# Convertendo a taxa anual adicional para uma base diária\n",
    "taxa_diaria_adicional = (1 + taxa_anual_adicional) ** (1/252) - 1\n",
    "\n",
    "# Ajustando a cota atual pelo CDI + 3% ao ano\n",
    "cota_ajustada = cota_cdi_atual * (1 + taxa_diaria_adicional)\n",
    "\n",
    "# Calculando a rentabilidade diária\n",
    "rentabilidade_diaria = (cota_ajustada / cota_cdi_anterior - 1) * 100\n",
    "\n",
    "print(f'Rentabilidade diária: {rentabilidade_diaria:.2f}%')\n"
   ]
  },
  {
   "cell_type": "code",
   "execution_count": null,
   "metadata": {},
   "outputs": [],
   "source": []
  }
 ],
 "metadata": {
  "kernelspec": {
   "display_name": "base",
   "language": "python",
   "name": "python3"
  },
  "language_info": {
   "codemirror_mode": {
    "name": "ipython",
    "version": 3
   },
   "file_extension": ".py",
   "mimetype": "text/x-python",
   "name": "python",
   "nbconvert_exporter": "python",
   "pygments_lexer": "ipython3",
   "version": "3.11.5"
  }
 },
 "nbformat": 4,
 "nbformat_minor": 2
}
